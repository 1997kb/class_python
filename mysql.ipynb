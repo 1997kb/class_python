{
 "cells": [
  {
   "cell_type": "code",
   "execution_count": 4,
   "metadata": {},
   "outputs": [],
   "source": [
    "import mysql.connector\n",
    "#importing database\n",
    "database = mysql.connector.connect(\n",
    "    host = \"localhost\",\n",
    "    user=\"root\",\n",
    "    password=\"\",\n",
    "    database=\"class12pm\"\n",
    "\n",
    ")\n",
    "\n",
    "db = database.cursor()\n"
   ]
  },
  {
   "cell_type": "code",
   "execution_count": 6,
   "metadata": {},
   "outputs": [
    {
     "name": "stdout",
     "output_type": "stream",
     "text": [
      "(1, 'ram', 12345, '12345', datetime.date(2021, 7, 4))\n"
     ]
    }
   ],
   "source": [
    "db.execute(\"SELECT * FROM account\")\n",
    "result =db.fetchall()\n",
    "for x in result:\n",
    "    print(x)"
   ]
  },
  {
   "cell_type": "code",
   "execution_count": 7,
   "metadata": {},
   "outputs": [
    {
     "name": "stdout",
     "output_type": "stream",
     "text": [
      "(1, 'ram', 12345)\n"
     ]
    }
   ],
   "source": [
    "db.execute(\"SELECT id,name,phone FROM account\")\n",
    "result =db.fetchall()\n",
    "for x in result:\n",
    "    print(x)"
   ]
  },
  {
   "cell_type": "code",
   "execution_count": 4,
   "metadata": {
    "scrolled": true
   },
   "outputs": [
    {
     "name": "stdout",
     "output_type": "stream",
     "text": [
      "Enter name=ram\n",
      "Enter Phone=12345\n",
      "Enter yes or no=yes\n",
      "Enter total=400\n"
     ]
    }
   ],
   "source": [
    "import mysql.connector\n",
    "#importing database\n",
    "database = mysql.connector.connect(\n",
    "    host = \"localhost\",\n",
    "    user=\"root\",\n",
    "    password=\"\",\n",
    "    database=\"class12pm\"\n",
    "\n",
    ")\n",
    "\n",
    "db = database.cursor()\n",
    "name = input(\"Enter name=\")\n",
    "phone = int(input(\"Enter Phone=\"))\n",
    "payment = input(\"Enter yes or no=\")\n",
    "total = int(input(\"Enter total=\"))\n",
    "\n",
    "sql = f\"INSERT INTO account(name,phone,payment,total) VALUES('{name}',{phone},'{payment}',{total})\"\n",
    "db.execute(sql)\n",
    "database.commit()"
   ]
  },
  {
   "cell_type": "code",
   "execution_count": 8,
   "metadata": {},
   "outputs": [
    {
     "name": "stdout",
     "output_type": "stream",
     "text": [
      "Enter id=5\n",
      "Enter Phone=9841\n",
      "Enter name = nabin\n"
     ]
    }
   ],
   "source": [
    "import mysql.connector\n",
    "#importing database\n",
    "database = mysql.connector.connect(\n",
    "    host = \"localhost\",\n",
    "    user=\"root\",\n",
    "    password=\"\",\n",
    "    database=\"class12pm\"\n",
    "\n",
    ")\n",
    "\n",
    "db = database.cursor()\n",
    "ids = int(input(\"Enter id=\"))\n",
    "phone = int(input(\"Enter Phone=\"))\n",
    "name = input(\"Enter name = \")\n",
    "\n",
    "sql = f\"UPDATE account SET phone = {phone}, name='{name}' WHERE id = {ids}\"\n",
    "db.execute(sql)\n",
    "database.commit()"
   ]
  },
  {
   "cell_type": "code",
   "execution_count": 11,
   "metadata": {},
   "outputs": [
    {
     "name": "stdout",
     "output_type": "stream",
     "text": [
      "Enter id=5\n"
     ]
    }
   ],
   "source": [
    "ids = int(input(\"Enter id=\"))\n",
    "\n",
    "\n",
    "sql = f\"DELETE from account WHERE id = {ids}\"\n",
    "\n",
    "db.execute(sql)\n",
    "database.commit()"
   ]
  },
  {
   "cell_type": "code",
   "execution_count": null,
   "metadata": {},
   "outputs": [],
   "source": []
  }
 ],
 "metadata": {
  "kernelspec": {
   "display_name": "Python 3",
   "language": "python",
   "name": "python3"
  },
  "language_info": {
   "codemirror_mode": {
    "name": "ipython",
    "version": 3
   },
   "file_extension": ".py",
   "mimetype": "text/x-python",
   "name": "python",
   "nbconvert_exporter": "python",
   "pygments_lexer": "ipython3",
   "version": "3.7.6"
  }
 },
 "nbformat": 4,
 "nbformat_minor": 4
}
