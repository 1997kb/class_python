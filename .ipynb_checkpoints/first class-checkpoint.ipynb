{
 "cells": [
  {
   "cell_type": "code",
   "execution_count": 2,
   "metadata": {},
   "outputs": [
    {
     "name": "stdout",
     "output_type": "stream",
     "text": [
      "enter the value of a =5\n",
      "the number is odd\n"
     ]
    }
   ],
   "source": [
    "a = int(input(\"enter the value of a =\"))\n",
    "if a%2 == 0:\n",
    "    print(\"the number is even\")\n",
    "else:\n",
    "    print(\"the number is odd\")"
   ]
  },
  {
   "cell_type": "code",
   "execution_count": 4,
   "metadata": {},
   "outputs": [
    {
     "name": "stdout",
     "output_type": "stream",
     "text": [
      "enter the value of a =2\n",
      "enter the value of b =2\n",
      "both numbers are equal\n"
     ]
    }
   ],
   "source": [
    "a = int(input(\"enter the value of a =\"))\n",
    "b = int(input(\"enter the value of b =\"))\n",
    "if a>b:\n",
    "    print(\"a is greater\")\n",
    "elif a<b:\n",
    "    print(\"b is greater\")\n",
    "else:\n",
    "    print(\"both numbers are equal\")\n",
    "    "
   ]
  },
  {
   "cell_type": "code",
   "execution_count": 1,
   "metadata": {},
   "outputs": [
    {
     "name": "stdout",
     "output_type": "stream",
     "text": [
      "enter the value of a =5\n",
      "enter the value of b =5\n",
      "enter + , -, *, /+\n",
      "10\n"
     ]
    }
   ],
   "source": [
    "a = int(input(\"enter the value of a =\"))\n",
    "b = int(input(\"enter the value of b =\"))\n",
    "o = input(\"enter + , -, *, /\")\n",
    "if o==\"+\":\n",
    "    print(a+b)\n",
    "elif o==\"-\":\n",
    "    print(a-b)\n",
    "elif o==\"*\":\n",
    "    print(a*b)\n",
    "elif o==\"/\" and b!=0:\n",
    "    print(a//b)\n",
    "elif b==0:\n",
    "    print(\"b cannot be zero\")\n",
    "else:\n",
    "    print(\"invalid entry\")\n",
    "    \n",
    "    "
   ]
  },
  {
   "cell_type": "code",
   "execution_count": null,
   "metadata": {},
   "outputs": [],
   "source": [
    "for i in range(1,10,2):\n",
    "    print(\"hello world\",i)\n",
    "    "
   ]
  },
  {
   "cell_type": "code",
   "execution_count": null,
   "metadata": {},
   "outputs": [],
   "source": [
    "n = int(input(\"enter the no\"))\n",
    "s = str()\n",
    "for i in  range(n):\n",
    "    x = input(\"enter the value of x\")\n",
    "    s = s + x\n",
    "print(s)\n",
    "    "
   ]
  },
  {
   "cell_type": "code",
   "execution_count": null,
   "metadata": {},
   "outputs": [],
   "source": []
  }
 ],
 "metadata": {
  "kernelspec": {
   "display_name": "Python 3",
   "language": "python",
   "name": "python3"
  },
  "language_info": {
   "codemirror_mode": {
    "name": "ipython",
    "version": 3
   },
   "file_extension": ".py",
   "mimetype": "text/x-python",
   "name": "python",
   "nbconvert_exporter": "python",
   "pygments_lexer": "ipython3",
   "version": "3.7.6"
  }
 },
 "nbformat": 4,
 "nbformat_minor": 4
}
