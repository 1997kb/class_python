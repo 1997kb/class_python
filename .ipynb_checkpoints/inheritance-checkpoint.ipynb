{
 "cells": [
  {
   "cell_type": "code",
   "execution_count": 1,
   "metadata": {},
   "outputs": [
    {
     "name": "stdout",
     "output_type": "stream",
     "text": [
      "Hello world a\n",
      "hello world B\n"
     ]
    }
   ],
   "source": [
    "class A:\n",
    "    print(\"Hello world a\")\n",
    "class B(A):\n",
    "    print(\"hello world B\")\n",
    "obj = B()\n"
   ]
  },
  {
   "cell_type": "code",
   "execution_count": 2,
   "metadata": {},
   "outputs": [
    {
     "name": "stdout",
     "output_type": "stream",
     "text": [
      "Hello world A\n",
      "Hello World B\n"
     ]
    }
   ],
   "source": [
    "class A:\n",
    "    def a(self):\n",
    "        print(\"Hello world A\")\n",
    "class B(A):\n",
    "    def b(self):\n",
    "        print(\"Hello World B\")\n",
    "obj = B()\n",
    "obj.a()\n",
    "obj.b()"
   ]
  },
  {
   "cell_type": "code",
   "execution_count": 4,
   "metadata": {},
   "outputs": [
    {
     "name": "stdout",
     "output_type": "stream",
     "text": [
      "Hello World I am ram. My salary is 15000\n",
      "Hello World my salary is 15000\n"
     ]
    }
   ],
   "source": [
    "class Account:\n",
    "    def __init__(self,name,salary):\n",
    "        self.sal = salary\n",
    "        self.name = name\n",
    "    def acc(self):\n",
    "        print(\"Hello World my salary is\",self.sal)\n",
    "class Office(Account):\n",
    "    def off(self):\n",
    "        print(f\"Hello World I am {self.name}. My salary is {self.sal}\")\n",
    "obj = Office(\"ram\",15000) #initializes to parent class Account\n",
    "obj.off()\n",
    "obj.acc()"
   ]
  },
  {
   "cell_type": "code",
   "execution_count": 5,
   "metadata": {},
   "outputs": [
    {
     "name": "stdout",
     "output_type": "stream",
     "text": [
      "Enter salary = 15000\n",
      "enter name=ram\n",
      "Hello World I am ram. My salary is 15000\n",
      "Hello World my salary is 15000\n"
     ]
    }
   ],
   "source": [
    "class Account:\n",
    "    def __init__(self):\n",
    "        self.sal = int(input(\"Enter salary = \"))\n",
    "        self.name = input(\"enter name=\")\n",
    "    def acc(self):\n",
    "        print(\"Hello World my salary is\",self.sal)\n",
    "class Office(Account):\n",
    "    def off(self):\n",
    "        print(f\"Hello World I am {self.name}. My salary is {self.sal}\")\n",
    "obj = Office() #initializes to parent class Account\n",
    "obj.off()\n",
    "obj.acc()"
   ]
  },
  {
   "cell_type": "code",
   "execution_count": null,
   "metadata": {},
   "outputs": [],
   "source": [
    "class Account:\n",
    "    def __init__(self):\n",
    "        self.sal = int(input(\"Enter salary = \"))\n",
    "        self.name = input(\"enter name=\")\n",
    "    def acc(self):\n",
    "        print(\"Hello World my salary is\",self.sal)\n",
    "class Office(Account):\n",
    "    def __init__(self):\n",
    "        self.address = input(\"Enter address=\")\n",
    "        Account.__init__(self)\n",
    "    def off(self):\n",
    "        print(f\"Hello World I am {self.name}. My salary is {self.sal}\")\n",
    "obj = Office() #initializes to parent class Account\n",
    "obj.off()\n",
    "obj.acc()"
   ]
  },
  {
   "cell_type": "code",
   "execution_count": 6,
   "metadata": {},
   "outputs": [
    {
     "name": "stdout",
     "output_type": "stream",
     "text": [
      "Hello World I am ram. My salary is 15000\n",
      "Hello World my salary is 15000\n"
     ]
    }
   ],
   "source": [
    "class Account:\n",
    "    def __init__(self,sal,add):\n",
    "        self.sal = sal\n",
    "        self.add = add\n",
    "    def acc(self):\n",
    "        print(\"Hello World my salary is\",self.sal)\n",
    "class Office(Account):\n",
    "    def __init__(self,name,sal,add):\n",
    "        self.name = name\n",
    "        Account.__init__(self,sal,add)\n",
    "    def off(self):\n",
    "        print(f\"Hello World I am {self.name}. My salary is {self.sal}\")\n",
    "obj = Office(\"ram\",15000,\"Kathmandu\") #initializes to parent class Account\n",
    "obj.off()\n",
    "obj.acc()"
   ]
  },
  {
   "cell_type": "code",
   "execution_count": 7,
   "metadata": {},
   "outputs": [
    {
     "name": "stdout",
     "output_type": "stream",
     "text": [
      "Hello World I am ram. My salary is 15000\n",
      "Hello World my salary is 15000\n"
     ]
    }
   ],
   "source": [
    "class Account:\n",
    "    def __init__(self,sal):\n",
    "        self.sal = sal\n",
    "        \n",
    "    def acc(self):\n",
    "        print(\"Hello World my salary is\",self.sal)\n",
    "class Info(Account):\n",
    "    def __init__(self,add):\n",
    "        self.add = add\n",
    "class Office(Info):\n",
    "    def __init__(self,name,sal,add):\n",
    "        self.name = name\n",
    "        Account.__init__(self,sal)\n",
    "        Info.__init__(self,add)\n",
    "    def off(self):\n",
    "        print(f\"Hello World I am {self.name}. My salary is {self.sal}\")\n",
    "obj = Office(\"ram\",15000,\"Kathmandu\") #initializes to parent class Account\n",
    "obj.off()\n",
    "obj.acc()"
   ]
  },
  {
   "cell_type": "code",
   "execution_count": 8,
   "metadata": {},
   "outputs": [
    {
     "name": "stdout",
     "output_type": "stream",
     "text": [
      "Hello World I am ram. My salary is 15000\n"
     ]
    }
   ],
   "source": [
    "class Account:\n",
    "    def __init__(self,sal):\n",
    "        self.sal = sal\n",
    "        \n",
    "    def acc(self):\n",
    "        print(\"Hello World my salary is\",self.sal)\n",
    "class Info():\n",
    "    def __init__(self,add):\n",
    "        self.add = add\n",
    "class Office(Account,Info):\n",
    "    def __init__(self,name,sal,add):\n",
    "        self.name = name\n",
    "        Account.__init__(self,sal)\n",
    "        Info.__init__(self,add)\n",
    "    def off(self):\n",
    "        print(f\"Hello World I am {self.name}. My salary is {self.sal}\")\n",
    "obj = Office(\"ram\",15000,\"Kathmandu\") #initializes to parent class Account\n",
    "obj.off()\n"
   ]
  },
  {
   "cell_type": "code",
   "execution_count": 9,
   "metadata": {},
   "outputs": [
    {
     "name": "stdout",
     "output_type": "stream",
     "text": [
      "Hello World I am ram. My salary is 15000\n",
      "Hello World my salary is 15000\n",
      "Hello World I am from Kathmandu\n"
     ]
    }
   ],
   "source": [
    "class Account:\n",
    "    def __init__(self,sal):\n",
    "        self.sal = sal\n",
    "        \n",
    "    def acc(self):\n",
    "        print(\"Hello World my salary is\",self.sal)\n",
    "class Info(Account):\n",
    "    def __init__(self,add):\n",
    "        self.add = add\n",
    "    def info(self):\n",
    "        print(\"Hello World I am from\",self.add)\n",
    "class Office(Info):\n",
    "    def __init__(self,name,sal,add):\n",
    "        self.name = name\n",
    "        Account.__init__(self,sal)\n",
    "        Info.__init__(self,add)\n",
    "        \n",
    "        \n",
    "    def off(self):\n",
    "        print(f\"Hello World I am {self.name}. My salary is {self.sal}\")\n",
    "        Account.acc(self)\n",
    "        super().info()\n",
    "obj = Office(\"ram\",15000,\"Kathmandu\") #initializes to parent class Account\n",
    "obj.off()\n"
   ]
  },
  {
   "cell_type": "code",
   "execution_count": 1,
   "metadata": {},
   "outputs": [
    {
     "name": "stdout",
     "output_type": "stream",
     "text": [
      "Ram\n",
      "67\n"
     ]
    }
   ],
   "source": [
    "#public\n",
    "class Info:\n",
    "    def __init__(self,name,age):\n",
    "        self.name = name\n",
    "        self.age = age\n",
    "obj = Info(\"Ram\",67)\n",
    "print(obj.name)\n",
    "print(obj.age)\n",
    "        "
   ]
  },
  {
   "cell_type": "code",
   "execution_count": 5,
   "metadata": {},
   "outputs": [
    {
     "name": "stdout",
     "output_type": "stream",
     "text": [
      "Ram\n",
      "67\n"
     ]
    }
   ],
   "source": [
    "#protected\n",
    "class Info:\n",
    "    def __init__(self,name,age):\n",
    "        self._name = name\n",
    "        self._age = age\n",
    "obj = Info(\"Ram\",67)\n",
    "print(obj._name)\n",
    "print(obj._age)"
   ]
  },
  {
   "cell_type": "code",
   "execution_count": null,
   "metadata": {},
   "outputs": [],
   "source": [
    "class Account:\n",
    "    def __init__(self,sal):\n",
    "        self.sal = sal\n",
    "        \n",
    "    def acc(self):\n",
    "        print(\"Hello World my salary is\",self.sal)\n",
    "class Info(Account):\n",
    "    def __init__(self,add):\n",
    "        self.add = add\n",
    "    def info(self):\n",
    "        print(\"Hello World I am from\",self.add)\n",
    "class Office(Info):\n",
    "    def __init__(self,name,sal,add):\n",
    "        self.name = name\n",
    "        Account.__init__(self,sal)\n",
    "        Info.__init__(self,add)\n",
    "        \n",
    "        \n",
    "    def off(self):\n",
    "        print(f\"Hello World I am {self.name}. My salary is {self.sal}\")\n",
    "        Account.acc(self)\n",
    "        super().info()\n",
    "obj = Office(\"ram\",15000,\"Kathmandu\") #initializes to parent class Account\n",
    "obj.off()\n"
   ]
  },
  {
   "cell_type": "code",
   "execution_count": 1,
   "metadata": {},
   "outputs": [
    {
     "name": "stdout",
     "output_type": "stream",
     "text": [
      "Ram\n"
     ]
    }
   ],
   "source": [
    "#public\n",
    "class Info:\n",
    "    def __init__(self,name,age):\n",
    "        self.name = name\n",
    "        self.age = age\n",
    "obj = Info(\"Ram\",55)\n",
    "print(obj.name)"
   ]
  },
  {
   "cell_type": "code",
   "execution_count": null,
   "metadata": {},
   "outputs": [],
   "source": [
    "#protected\n",
    "class Info:\n",
    "    def __init__(self,name,age):\n",
    "        self._name = name\n",
    "        self._age = age\n",
    "obj = Info(\"Ram\",55)\n",
    "print(obj.name)\n"
   ]
  }
 ],
 "metadata": {
  "kernelspec": {
   "display_name": "Python 3",
   "language": "python",
   "name": "python3"
  },
  "language_info": {
   "codemirror_mode": {
    "name": "ipython",
    "version": 3
   },
   "file_extension": ".py",
   "mimetype": "text/x-python",
   "name": "python",
   "nbconvert_exporter": "python",
   "pygments_lexer": "ipython3",
   "version": "3.7.6"
  }
 },
 "nbformat": 4,
 "nbformat_minor": 4
}
