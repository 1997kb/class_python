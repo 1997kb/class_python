{
 "cells": [
  {
   "cell_type": "code",
   "execution_count": 5,
   "metadata": {},
   "outputs": [
    {
     "name": "stdout",
     "output_type": "stream",
     "text": [
      "skills you do not possess > linux\n",
      "do you wish to continue?yes\n",
      "skills you do not possess > python\n",
      "do you wish to continue?NO\n",
      "filtering out ['linux', 'python']\n",
      "\n",
      "Company Name : capgemini\n",
      "Required Skills: securitycompliance,python,html5,mobile,javascript,database,django,pythonscripting\n",
      "More Info = https://www.timesjobs.com/job-detail/python-capgemini-pune-12-to-15-yrs-jobid-SnD3Qy3u93RzpSvf__PLUS__uAgZw==&source=srp\n",
      "\n",
      "Company Name : PureTechCodexPrivateLimited\n",
      "Required Skills: rest,python,database,django,debugging,mongodb\n",
      "More Info = https://www.timesjobs.com/job-detail/python-pure-tech-codex-private-limited-pune-2-to-3-yrs-jobid-OHwfF0d6EhNzpSvf__PLUS__uAgZw==&source=srp\n",
      "\n",
      "Company Name : GEMINISOFTWARESOLUTIONS\n",
      "Required Skills: python,mobile,svn,nosql,pythonscripting,git,sqldatabase\n",
      "More Info = https://www.timesjobs.com/job-detail/qa-python-python-sdet-gemini-software-solutions-gurgaon-4-to-7-yrs-jobid-jsOuZLK8chlzpSvf__PLUS__uAgZw==&source=srp\n",
      "\n",
      "Company Name : GeminiSolutions\n",
      "Required Skills: python,mobile,svn,nosql,pythonscripting,git,api,sqldatabase\n",
      "More Info = https://www.timesjobs.com/job-detail/qa-python-python-sdet-gemini-solutions-gurgaon-4-to-7-yrs-jobid-eGMLzwOk2QlzpSvf__PLUS__uAgZw==&source=srp\n",
      "\n",
      "Company Name : SEVENCONSULTANCY\n",
      "Required Skills: rest,python,storage\n",
      "More Info = https://www.timesjobs.com/job-detail/python-developer-seven-consultancy-navi-mumbai-mumbai-thane-1-to-3-yrs-jobid-PWmNUCWn6CxzpSvf__PLUS__uAgZw==&source=srp\n",
      "\n",
      "Company Name : 3RITechnologiesPvtLtd\n",
      "Required Skills: python,database,teamplayer\n",
      "More Info = https://www.timesjobs.com/job-detail/python-engineers-3ri-technologies-pvt-ltd-pune-0-to-3-yrs-jobid-vlvpVUMEBbxzpSvf__PLUS__uAgZw==&source=srp\n",
      "\n",
      "Company Name : LAKSHHUMANRESOURCE\n",
      "Required Skills: rest,python,django,git\n",
      "More Info = https://www.timesjobs.com/job-detail/python-developer-laksh-human-resource-mumbai-1-to-3-yrs-jobid-Bo79FYBR7__SLASH__5zpSvf__PLUS__uAgZw==&source=srp\n",
      "\n"
     ]
    }
   ],
   "source": [
    "from bs4 import BeautifulSoup\n",
    "import requests\n",
    "n=''\n",
    "\n",
    "unfamiliar_skills = []\n",
    "while n != 'NO':\n",
    " unfamiliar_skill = input('skills you do not possess > ')\n",
    " unfamiliar_skills.append(unfamiliar_skill)\n",
    " n = input('do you wish to continue?')   \n",
    "   \n",
    "\n",
    "print(f'filtering out {unfamiliar_skills}')\n",
    "html_text = requests.get('https://www.timesjobs.com/candidate/job-search.html?searchType=personalizedSearch&from=submit&txtKeywords=python&txtLocation=').text\n",
    "soup = BeautifulSoup(html_text,'lxml')\n",
    "jobs = soup.find_all('li', class_='clearfix job-bx wht-shd-bx')\n",
    "for job in jobs:\n",
    "    published_date = job.find('span',class_='sim-posted').span.text\n",
    "    if 'few' in published_date:\n",
    "        company_name = job.find('h3',class_=\"joblist-comp-name\").text.replace(' ','')\n",
    "        skills = job.find('span',class_='srp-skills').text.replace(' ','')\n",
    "        more_info = job.header.h2.a['href']\n",
    "        for i in unfamiliar_skills:\n",
    "            \n",
    "            if i not in skills:\n",
    "                print(f'Company Name : {company_name.strip()}')\n",
    "                print(f'Required Skills: {skills.strip()}')\n",
    "                print(f'More Info = {more_info}')\n",
    "        \n",
    "        \n",
    "        print('')\n",
    "    \n",
    "     "
   ]
  },
  {
   "cell_type": "code",
   "execution_count": null,
   "metadata": {},
   "outputs": [],
   "source": []
  },
  {
   "cell_type": "code",
   "execution_count": null,
   "metadata": {},
   "outputs": [],
   "source": []
  }
 ],
 "metadata": {
  "kernelspec": {
   "display_name": "Python 3",
   "language": "python",
   "name": "python3"
  },
  "language_info": {
   "codemirror_mode": {
    "name": "ipython",
    "version": 3
   },
   "file_extension": ".py",
   "mimetype": "text/x-python",
   "name": "python",
   "nbconvert_exporter": "python",
   "pygments_lexer": "ipython3",
   "version": "3.7.6"
  }
 },
 "nbformat": 4,
 "nbformat_minor": 4
}
