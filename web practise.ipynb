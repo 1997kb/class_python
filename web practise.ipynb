{
 "cells": [
  {
   "cell_type": "code",
   "execution_count": null,
   "metadata": {},
   "outputs": [],
   "source": [
    "from bs4 import BeautifulSoup\n",
    "import requests\n",
    "n=''\n",
    "\n",
    "unfamiliar_skills = []\n",
    "while n != 'NO':\n",
    " unfamiliar_skill = input('skills you do not possess > ')\n",
    " unfamiliar_skills.append(unfamiliar_skill)\n",
    " n = input('do you wish to continue?')   \n",
    "   \n",
    "\n",
    "print(f'filtering out {unfamiliar_skills}')\n",
    "html_text = requests.get('https://www.timesjobs.com/candidate/job-search.html?searchType=personalizedSearch&from=submit&txtKeywords=python&txtLocation=').text\n",
    "soup = BeautifulSoup(html_text,'lxml')\n",
    "jobs = soup.find_all('li', class_='clearfix job-bx wht-shd-bx')\n",
    "for job in jobs:\n",
    "    published_date = job.find('span',class_='sim-posted').span.text\n",
    "    if 'few' in published_date:\n",
    "        company_name = job.find('h3',class_=\"joblist-comp-name\").text.replace(' ','')\n",
    "        skills = job.find('span',class_='srp-skills').text.replace(' ','')\n",
    "        more_info = job.header.h2.a['href']\n",
    "        for i in unfamiliar_skills:\n",
    "            \n",
    "            if i not in skills:\n",
    "                print(f'Company Name : {company_name.strip()}')\n",
    "                print(f'Required Skills: {skills.strip()}')\n",
    "                print(f'More Info = {more_info}')\n",
    "        \n",
    "        \n",
    "        print('')\n",
    "    \n",
    "     "
   ]
  },
  {
   "cell_type": "code",
   "execution_count": null,
   "metadata": {},
   "outputs": [],
   "source": []
  },
  {
   "cell_type": "code",
   "execution_count": null,
   "metadata": {},
   "outputs": [],
   "source": []
  }
 ],
 "metadata": {
  "kernelspec": {
   "display_name": "Python 3",
   "language": "python",
   "name": "python3"
  },
  "language_info": {
   "codemirror_mode": {
    "name": "ipython",
    "version": 3
   },
   "file_extension": ".py",
   "mimetype": "text/x-python",
   "name": "python",
   "nbconvert_exporter": "python",
   "pygments_lexer": "ipython3",
   "version": "3.7.6"
  }
 },
 "nbformat": 4,
 "nbformat_minor": 4
}
