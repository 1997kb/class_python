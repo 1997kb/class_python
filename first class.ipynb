{
 "cells": [
  {
   "cell_type": "code",
   "execution_count": 2,
   "metadata": {},
   "outputs": [
    {
     "name": "stdout",
     "output_type": "stream",
     "text": [
      "HELLO WORLD\n",
      "Hello world\n"
     ]
    }
   ],
   "source": [
    "a = \"Hello world\"\n",
    "print(a.upper())\n",
    "print(a)\n",
    "        "
   ]
  },
  {
   "cell_type": "code",
   "execution_count": null,
   "metadata": {},
   "outputs": [
    {
     "name": "stdout",
     "output_type": "stream",
     "text": [
      "H\n",
      "e\n",
      "l\n",
      "l\n",
      "o\n"
     ]
    }
   ],
   "source": [
    "a = \"Hello world\"\n",
    "l = len(a)\n",
    "b = 0\n",
    "while b<l:\n",
    "    if a[b] == \" \":\n",
    "        continue\n",
    "    print(a[b])\n",
    "    b= b + 1\n",
    "    "
   ]
  },
  {
   "cell_type": "code",
   "execution_count": 9,
   "metadata": {},
   "outputs": [
    {
     "name": "stdout",
     "output_type": "stream",
     "text": [
      "enter a number4\n",
      "4 is composite number\n"
     ]
    }
   ],
   "source": [
    "n = int(input(\"enter a number\"))\n",
    "for i in range(2,n):\n",
    "    if n % i == 0:\n",
    "        print(f\"{n} is composite number\")\n",
    "        break\n",
    "else:\n",
    "    print(f\"{n} is prime number\")"
   ]
  },
  {
   "cell_type": "code",
   "execution_count": 11,
   "metadata": {},
   "outputs": [
    {
     "name": "stdout",
     "output_type": "stream",
     "text": [
      "enter the number7\n",
      "[0, 1, 1, 2, 3, 5, 8]\n"
     ]
    }
   ],
   "source": [
    "f =[]\n",
    "n = int(input(\"enter the number\"))\n",
    "a = [0,1]\n",
    "b=a[0]\n",
    "c=a[1]\n",
    "\n",
    "for i in range(2,n):\n",
    "    \n",
    "    s = b + c\n",
    "    f.append(s)\n",
    "    b=c\n",
    "    c=s\n",
    "\n",
    "new_list = a + f\n",
    "print(new_list)\n",
    "    \n",
    "    "
   ]
  },
  {
   "cell_type": "code",
   "execution_count": 4,
   "metadata": {},
   "outputs": [
    {
     "name": "stdout",
     "output_type": "stream",
     "text": [
      "enter the total number of terms 7\n",
      "0 1 1 2 3 5 8 "
     ]
    }
   ],
   "source": [
    "n = int(input(\"enter the total number of terms \"))\n",
    "a = 0 \n",
    "b = 1\n",
    "print(a,b,end=\" \")\n",
    "for i in range(2,n):\n",
    "    sum = a + b\n",
    "    a = b\n",
    "    b = sum\n",
    "    print(sum,end=\" \")\n",
    "    \n",
    "    "
   ]
  },
  {
   "cell_type": "code",
   "execution_count": 25,
   "metadata": {},
   "outputs": [
    {
     "name": "stdout",
     "output_type": "stream",
     "text": [
      "hello \n"
     ]
    }
   ],
   "source": [
    "a = \"hello world i am python\"\n",
    "print(a[0:6])"
   ]
  },
  {
   "cell_type": "code",
   "execution_count": 1,
   "metadata": {},
   "outputs": [
    {
     "name": "stdout",
     "output_type": "stream",
     "text": [
      "lrow o\n"
     ]
    }
   ],
   "source": [
    "a = \"hello world\"\n",
    "l = len(a)\n",
    "print(a[9:3:-1])\n"
   ]
  },
  {
   "cell_type": "code",
   "execution_count": 4,
   "metadata": {},
   "outputs": [
    {
     "name": "stdout",
     "output_type": "stream",
     "text": [
      "enter the total number of terms \n",
      "5\n",
      "0 1 1 2 3 "
     ]
    }
   ],
   "source": [
    "n = int(input(\"enter the total number of terms \\n\"))\n",
    "a = 0\n",
    "b = 1\n",
    "s = 0\n",
    "print(a,b,end=\" \")\n",
    "for i in range(2,n):\n",
    "    s = a + b\n",
    "    a = b\n",
    "    b = s\n",
    "    print(s,end=\" \")\n",
    "    "
   ]
  },
  {
   "cell_type": "code",
   "execution_count": 3,
   "metadata": {},
   "outputs": [
    {
     "name": "stdout",
     "output_type": "stream",
     "text": [
      "enter the number of persons2\n",
      "enter name=coke\n",
      "enter price100\n",
      "enter the quantity2\n",
      "enter name=fanta\n",
      "enter price200\n",
      "enter the quantity2\n",
      "600\n"
     ]
    }
   ],
   "source": [
    "n = int(input(\"enter the number of persons\"))\n",
    "data = str()\n",
    "grand_total = 0\n",
    "for i in range(n):\n",
    "    name = input(\"enter name=\")\n",
    "    price = int(input(\"enter price\"))\n",
    "    quantity = int(input(\"enter the quantity\"))\n",
    "    total = price*quantity\n",
    "    info = f\"{name} {price} {quantity} \\n \"\n",
    "    data = data + info\n",
    "    grand_total = total + grand_total\n",
    "    \n",
    "print(grand_total)    \n",
    "    "
   ]
  },
  {
   "cell_type": "markdown",
   "metadata": {},
   "source": [
    "a = \"ram shyam hari ram\"\n",
    "print(a)"
   ]
  },
  {
   "cell_type": "code",
   "execution_count": 4,
   "metadata": {},
   "outputs": [
    {
     "name": "stdout",
     "output_type": "stream",
     "text": [
      "coke 100 2 fanta 200 2 \n"
     ]
    }
   ],
   "source": [
    "\n",
    " print(data)\n"
   ]
  },
  {
   "cell_type": "code",
   "execution_count": 6,
   "metadata": {},
   "outputs": [
    {
     "data": {
      "text/plain": [
       "['coke 100 2 fanta 200 2 ']"
      ]
     },
     "execution_count": 6,
     "metadata": {},
     "output_type": "execute_result"
    }
   ],
   "source": [
    "data.split('\\n')"
   ]
  },
  {
   "cell_type": "code",
   "execution_count": null,
   "metadata": {},
   "outputs": [],
   "source": []
  }
 ],
 "metadata": {
  "kernelspec": {
   "display_name": "Python 3",
   "language": "python",
   "name": "python3"
  },
  "language_info": {
   "codemirror_mode": {
    "name": "ipython",
    "version": 3
   },
   "file_extension": ".py",
   "mimetype": "text/x-python",
   "name": "python",
   "nbconvert_exporter": "python",
   "pygments_lexer": "ipython3",
   "version": "3.7.6"
  }
 },
 "nbformat": 4,
 "nbformat_minor": 4
}
