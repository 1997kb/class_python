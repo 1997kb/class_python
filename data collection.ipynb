{
 "cells": [
  {
   "cell_type": "code",
   "execution_count": 2,
   "metadata": {},
   "outputs": [
    {
     "name": "stdout",
     "output_type": "stream",
     "text": [
      "Apple Fish\n",
      "['Fish', 'Dog', 'Cat', 'Ball']\n"
     ]
    },
    {
     "ename": "AttributeError",
     "evalue": "'list' object has no attribute 'upper'",
     "output_type": "error",
     "traceback": [
      "\u001b[1;31m---------------------------------------------------------------------------\u001b[0m",
      "\u001b[1;31mAttributeError\u001b[0m                            Traceback (most recent call last)",
      "\u001b[1;32m<ipython-input-2-65c3e6200557>\u001b[0m in \u001b[0;36m<module>\u001b[1;34m\u001b[0m\n\u001b[0;32m      3\u001b[0m \u001b[0mprint\u001b[0m\u001b[1;33m(\u001b[0m\u001b[0ma\u001b[0m\u001b[1;33m[\u001b[0m\u001b[1;33m-\u001b[0m\u001b[1;36m1\u001b[0m\u001b[1;33m]\u001b[0m\u001b[1;33m)\u001b[0m\u001b[1;33m\u001b[0m\u001b[1;33m\u001b[0m\u001b[0m\n\u001b[0;32m      4\u001b[0m \u001b[0mprint\u001b[0m\u001b[1;33m(\u001b[0m\u001b[0ma\u001b[0m\u001b[1;33m[\u001b[0m\u001b[1;33m-\u001b[0m\u001b[1;36m1\u001b[0m\u001b[1;33m:\u001b[0m\u001b[1;33m-\u001b[0m\u001b[1;36m5\u001b[0m\u001b[1;33m:\u001b[0m\u001b[1;33m-\u001b[0m\u001b[1;36m1\u001b[0m\u001b[1;33m]\u001b[0m\u001b[1;33m)\u001b[0m\u001b[1;33m\u001b[0m\u001b[1;33m\u001b[0m\u001b[0m\n\u001b[1;32m----> 5\u001b[1;33m \u001b[0ma\u001b[0m\u001b[1;33m.\u001b[0m\u001b[0mupper\u001b[0m\u001b[1;33m(\u001b[0m\u001b[1;33m)\u001b[0m\u001b[1;33m\u001b[0m\u001b[1;33m\u001b[0m\u001b[0m\n\u001b[0m\u001b[0;32m      6\u001b[0m \u001b[0mprint\u001b[0m\u001b[1;33m(\u001b[0m\u001b[0ma\u001b[0m\u001b[1;33m)\u001b[0m\u001b[1;33m\u001b[0m\u001b[1;33m\u001b[0m\u001b[0m\n",
      "\u001b[1;31mAttributeError\u001b[0m: 'list' object has no attribute 'upper'"
     ]
    }
   ],
   "source": [
    "a = [\"Apple\",\"Ball\",\"Cat\",\"Dog\",\"Fish\"]\n",
    "print(a[0], end=\" \")\n",
    "print(a[-1])\n",
    "print(a[-1:-5:-1])\n",
    "a.append(\"Goat\")\n",
    "print(a)"
   ]
  },
  {
   "cell_type": "code",
   "execution_count": 15,
   "metadata": {},
   "outputs": [
    {
     "name": "stdout",
     "output_type": "stream",
     "text": [
      "Apple\n",
      "Ball\n",
      "Cat\n",
      "Dog\n",
      "Fish\n"
     ]
    }
   ],
   "source": [
    "a = [\"Apple\",\"Ball\",\"Cat\",\"Dog\",\"Fish\"]\n",
    "l = len(a)\n",
    "for i in a:\n",
    "    print(i)\n",
    "    "
   ]
  },
  {
   "cell_type": "code",
   "execution_count": 18,
   "metadata": {},
   "outputs": [
    {
     "name": "stdout",
     "output_type": "stream",
     "text": [
      "Apple\n",
      "Ball\n",
      "Cat\n"
     ]
    }
   ],
   "source": [
    "a = [\"Apple\",\"Ball\",\"Cat\",\"Dog\",\"Fish\",\"Ball\",\"Ball\"]\n",
    "for i in a:\n",
    "    if i == \"Dog\":\n",
    "        break\n",
    "    else:\n",
    "        print(i)\n",
    "\n",
    "    "
   ]
  },
  {
   "cell_type": "code",
   "execution_count": 19,
   "metadata": {},
   "outputs": [
    {
     "name": "stdout",
     "output_type": "stream",
     "text": [
      "enter the value of n4\n",
      "enter nameram\n",
      "enter nameshyam\n",
      "enter nameharu\n",
      "enter namesita\n",
      "['ram', 'shyam', 'haru', 'sita']\n"
     ]
    }
   ],
   "source": [
    "n = int(input(\"enter the value of n\"))\n",
    "\n",
    "b =[]\n",
    "\n",
    "for i in range(n):\n",
    "    name = input(\"enter name\")\n",
    "    b.append(name)\n",
    "print(b)    "
   ]
  },
  {
   "cell_type": "code",
   "execution_count": 3,
   "metadata": {},
   "outputs": [
    {
     "name": "stdout",
     "output_type": "stream",
     "text": [
      "400000\n",
      "[3, 5, 6, 78, 345, 400000]\n",
      "[400000, 345, 78, 6, 5, 3]\n"
     ]
    }
   ],
   "source": [
    "a = [3,345,400000,5,6,78]\n",
    "print(max(a))\n",
    "a.sort()\n",
    "print(a)\n",
    "a.reverse()\n",
    "print(a)\n"
   ]
  },
  {
   "cell_type": "code",
   "execution_count": 6,
   "metadata": {},
   "outputs": [
    {
     "ename": "TypeError",
     "evalue": "count() takes exactly one argument (0 given)",
     "output_type": "error",
     "traceback": [
      "\u001b[1;31m---------------------------------------------------------------------------\u001b[0m",
      "\u001b[1;31mTypeError\u001b[0m                                 Traceback (most recent call last)",
      "\u001b[1;32m<ipython-input-6-2b842bd525c6>\u001b[0m in \u001b[0;36m<module>\u001b[1;34m\u001b[0m\n\u001b[0;32m      1\u001b[0m \u001b[0ma\u001b[0m \u001b[1;33m=\u001b[0m \u001b[1;33m[\u001b[0m\u001b[1;36m1\u001b[0m\u001b[1;33m,\u001b[0m\u001b[1;36m2\u001b[0m\u001b[1;33m,\u001b[0m\u001b[1;36m3\u001b[0m\u001b[1;33m,\u001b[0m\u001b[1;36m4\u001b[0m\u001b[1;33m,\u001b[0m\u001b[1;36m5\u001b[0m\u001b[1;33m,\u001b[0m\u001b[1;36m6\u001b[0m\u001b[1;33m,\u001b[0m\u001b[1;36m6\u001b[0m\u001b[1;33m,\u001b[0m\u001b[1;36m6\u001b[0m\u001b[1;33m,\u001b[0m\u001b[1;36m6\u001b[0m\u001b[1;33m,\u001b[0m\u001b[1;36m7\u001b[0m\u001b[1;33m]\u001b[0m\u001b[1;33m\u001b[0m\u001b[1;33m\u001b[0m\u001b[0m\n\u001b[1;32m----> 2\u001b[1;33m \u001b[0mprint\u001b[0m\u001b[1;33m(\u001b[0m\u001b[0ma\u001b[0m\u001b[1;33m.\u001b[0m\u001b[0mcount\u001b[0m\u001b[1;33m(\u001b[0m\u001b[1;33m)\u001b[0m\u001b[1;33m)\u001b[0m\u001b[1;33m\u001b[0m\u001b[1;33m\u001b[0m\u001b[0m\n\u001b[0m",
      "\u001b[1;31mTypeError\u001b[0m: count() takes exactly one argument (0 given)"
     ]
    }
   ],
   "source": [
    "a = [1,2,3,4,5,6,6,6,6,7]\n",
    "print(a.count())"
   ]
  },
  {
   "cell_type": "code",
   "execution_count": 7,
   "metadata": {},
   "outputs": [
    {
     "name": "stdout",
     "output_type": "stream",
     "text": [
      "2\n",
      "7\n"
     ]
    }
   ],
   "source": [
    "a = [\"Apple\",\"Zebra\",\"ball\",\"Xray\",\"1Rose\",\".food\",\"2\",\"ball\"]\n",
    "l=len(a)\n",
    "for i in range(l):\n",
    "    if a[i] == \"ball\":\n",
    "        print(i)"
   ]
  },
  {
   "cell_type": "code",
   "execution_count": 3,
   "metadata": {},
   "outputs": [
    {
     "name": "stdout",
     "output_type": "stream",
     "text": [
      "enter the value of n3\n",
      "enter name=coke\n",
      "enter price=200\n",
      "enter qty2\n",
      "enter name=fanta\n",
      "enter price=3\n",
      "enter qty4\n",
      "enter name=sprite\n",
      "enter price=500\n",
      "enter qty4\n",
      "[['coke', 200, 2, 400], ['fanta', 3, 4, 12], ['sprite', 500, 4, 2000]]\n"
     ]
    }
   ],
   "source": [
    "bill = []\n",
    "net_price = 0\n",
    "n = int(input(\"enter the value of n\"))\n",
    "for i in range(n):\n",
    "    name = input(\"enter name=\")\n",
    "    price = int(input(\"enter price=\"))\n",
    "    quantity = int(input(\"enter qty\"))\n",
    "    total = price*quantity\n",
    "    data = [name,price,quantity,total]\n",
    "    bill.append(data)\n",
    "    net_price = net_price + total\n",
    "print(bill)    "
   ]
  },
  {
   "cell_type": "code",
   "execution_count": 4,
   "metadata": {},
   "outputs": [
    {
     "name": "stdout",
     "output_type": "stream",
     "text": [
      "[['coke', 200, 2, 400], ['fanta', 3, 4, 12], ['sprite', 500, 4, 2000]]\n"
     ]
    }
   ],
   "source": [
    "print(bill)"
   ]
  },
  {
   "cell_type": "code",
   "execution_count": 1,
   "metadata": {},
   "outputs": [
    {
     "name": "stdout",
     "output_type": "stream",
     "text": [
      "['ram', 45, 'ktm']\n",
      "['shyam', 45, 'pokhara']\n",
      "['hari', 45, 'biratnagar']\n"
     ]
    }
   ],
   "source": [
    "a = [[\"ram\",45,\"ktm\"],\n",
    "     [\"shyam\",45,\"pokhara\"],\n",
    "     [\"hari\",45,\"biratnagar\"] ]\n",
    "for i in a:\n",
    "    if \"ram\" in i:\n",
    "        continue\n",
    "    print(i)    \n",
    "        \n",
    "\n",
    "\n",
    "    "
   ]
  },
  {
   "cell_type": "code",
   "execution_count": 2,
   "metadata": {},
   "outputs": [
    {
     "name": "stdout",
     "output_type": "stream",
     "text": [
      "Apple\n"
     ]
    }
   ],
   "source": [
    "a = {\"a\":\"Apple\",\"b\":\"Ball\",\"c\":\"Cat\"}\n",
    "print(a[\"a\"])"
   ]
  },
  {
   "cell_type": "code",
   "execution_count": 2,
   "metadata": {},
   "outputs": [
    {
     "name": "stdout",
     "output_type": "stream",
     "text": [
      "enter n =3\n",
      "enter name ram\n",
      "enter no 1234\n",
      "enter name shyam\n",
      "enter no 1222\n",
      "enter name hari\n",
      "enter no 12345\n",
      "{'ram': 1234, 'shyam': 1222, 'hari': 12345}\n"
     ]
    }
   ],
   "source": [
    "d = {}\n",
    "n = int(input(\"enter n =\"))\n",
    "for i in range(n):\n",
    "    name = input(\"enter name \")\n",
    "    phone = int(input(\"enter no \"))\n",
    "    key = name\n",
    "    \n",
    "    value = phone\n",
    "    d[key]=value\n",
    "print(d)    \n"
   ]
  },
  {
   "cell_type": "code",
   "execution_count": null,
   "metadata": {},
   "outputs": [
    {
     "name": "stdout",
     "output_type": "stream",
     "text": [
      "enter n = 2\n",
      "enter your name = ram\n",
      "enter ntc number =1234\n",
      "enter ncell number =12222\n",
      "enter your name = shyam\n",
      "enter ntc number =3434\n",
      "enter ncell number =5555\n",
      "{'ram': [1234, 12222], 'shyam': [3434, 5555]}\n"
     ]
    }
   ],
   "source": [
    "n = int(input(\"enter n = \"))\n",
    "d = {}\n",
    "\n",
    "for i in range(n):\n",
    "    name = input(\"enter your name = \")\n",
    "    ntc = int(input(\"enter ntc number =\"))\n",
    "    ncell = int(input(\"enter ncell number =\"))\n",
    "    key = name\n",
    "    value = [ntc,ncell]\n",
    "    d[key] = value\n",
    "print(d)    \n",
    "    \n",
    "    "
   ]
  },
  {
   "cell_type": "code",
   "execution_count": 1,
   "metadata": {},
   "outputs": [
    {
     "data": {
      "text/plain": [
       "'Ram'"
      ]
     },
     "execution_count": 1,
     "metadata": {},
     "output_type": "execute_result"
    }
   ],
   "source": [
    "a = {1:{'Name':'Ram',\"NTC\":985612345,\"NCELL\":123456},\n",
    "     2:{'Name':'Ram',\"NTC\":123456,\"NCELL\":1234567}}\n",
    "a[1]['Name']"
   ]
  },
  {
   "cell_type": "code",
   "execution_count": 5,
   "metadata": {},
   "outputs": [
    {
     "name": "stdout",
     "output_type": "stream",
     "text": [
      "enter the value of n2\n",
      "enter the nameram\n",
      "enter the number4672356\n",
      "enter the number555555\n",
      "enter the nameshyam\n",
      "enter the number234556\n",
      "enter the number454656\n",
      "{'ram': [4672356, 555555], 'shyam': [234556, 454656]}\n"
     ]
    }
   ],
   "source": [
    "d = dict()\n",
    "n = int(input(\"enter the value of n\"))\n",
    "for i in range(n):\n",
    "    name = input(\"enter the name\")\n",
    "    ntc = int(input(\"enter the number\"))\n",
    "    ncell = int(input(\"enter the number\"))\n",
    "    key = name\n",
    "    value = [ntc,ncell]\n",
    "    \n",
    "    d[key] = value\n",
    "print(d)    "
   ]
  },
  {
   "cell_type": "code",
   "execution_count": 9,
   "metadata": {},
   "outputs": [
    {
     "name": "stdout",
     "output_type": "stream",
     "text": [
      "{'ram': [4672356, 555555]}\n"
     ]
    }
   ],
   "source": [
    "a = {'ram': [4672356, 555555], 'shyam': [234556, 454656]}\n",
    "a['ram'][0]\n",
    "del a['shyam']\n",
    "print(a)"
   ]
  },
  {
   "cell_type": "code",
   "execution_count": 3,
   "metadata": {},
   "outputs": [
    {
     "name": "stdout",
     "output_type": "stream",
     "text": [
      "enter the value of n 2\n",
      "enter the name ram\n",
      "enter ntc number 111\n",
      "enter ncell number 111\n",
      "enter the name shyam\n",
      "enter ntc number 1122\n",
      "enter ncell number 1222\n",
      "[{'ram': [111, 111]}, {'shyam': [1122, 1222]}]\n"
     ]
    }
   ],
   "source": [
    "l = []\n",
    "n = int(input(\"enter the value of n \"))\n",
    "for i in range(1,n+1):\n",
    "    name = input(\"enter the name \")\n",
    "    ntc = int(input(\"enter ntc number \"))\n",
    "    ncell = int(input(\"enter ncell number \"))\n",
    "    value = {name:[ntc,ncell]}\n",
    "    l.append(value)\n",
    "print(l)    "
   ]
  },
  {
   "cell_type": "code",
   "execution_count": 4,
   "metadata": {},
   "outputs": [
    {
     "data": {
      "text/plain": [
       "['ram', 'shyam', 'hari']"
      ]
     },
     "execution_count": 4,
     "metadata": {},
     "output_type": "execute_result"
    }
   ],
   "source": [
    "a = (\"ram\",\"shyam\",\"hari\",)\n",
    "list(a)"
   ]
  },
  {
   "cell_type": "code",
   "execution_count": null,
   "metadata": {},
   "outputs": [],
   "source": [
    "a = ()\n",
    "n = int(input(\"enter the value of n\"))\n",
    "for i in range(n):\n",
    "    name = input(\"enter the name\")\n",
    "    age = int(input(\"enter your age\"))\n",
    "    address = input(\"enter your address\")\n",
    "    value = ((name,age,address),)\n",
    "    a.append(value)\n",
    "print(a)    "
   ]
  },
  {
   "cell_type": "code",
   "execution_count": 3,
   "metadata": {},
   "outputs": [
    {
     "name": "stdout",
     "output_type": "stream",
     "text": [
      "enter the value of n 2\n",
      "enter x =2\n",
      "enter x =3\n",
      "{'2', '3'}\n"
     ]
    }
   ],
   "source": [
    "a = set()\n",
    "n = int(input(\"enter the value of n \"))\n",
    "for i in range (n):\n",
    "    x = input(\"enter x =\")\n",
    "    a.add(x)\n",
    "print(a)    \n"
   ]
  },
  {
   "cell_type": "code",
   "execution_count": 4,
   "metadata": {},
   "outputs": [
    {
     "name": "stdout",
     "output_type": "stream",
     "text": [
      "{'Hari', 'Sita'}\n",
      "{'Hari', 'Gita', 'Nabin', 'Nita', 'Sita', 'Shyam', 'Ram'}\n"
     ]
    }
   ],
   "source": [
    "a = {\"Ram\",\"Shyam\",\"Hari\",\"Sita\",\"Gita\",\"Nita\"}\n",
    "b = {\"Hari\",\"Sita\",\"Nabin\"}\n",
    "print(a.intersection(b))\n",
    "print(a.union(b))"
   ]
  },
  {
   "cell_type": "code",
   "execution_count": 7,
   "metadata": {},
   "outputs": [
    {
     "name": "stdout",
     "output_type": "stream",
     "text": [
      "{'Ram', 'Shyam', 'Gita', 'Nita'}\n",
      "{'Nabin'}\n",
      "{'Ram', 'Shyam', 'Gita', 'Nita'}\n"
     ]
    }
   ],
   "source": [
    "a = {\"Ram\",\"Shyam\",\"Hari\",\"Sita\",\"Gita\",\"Nita\"}\n",
    "b = {\"Hari\",\"Sita\",\"Nabin\"}\n",
    "print(a.difference(b))\n",
    "print(b.difference(a))\n",
    "c =a.union(a)\n",
    "d =a.intersection(b)\n",
    "print(c.difference(d))"
   ]
  },
  {
   "cell_type": "code",
   "execution_count": 9,
   "metadata": {},
   "outputs": [
    {
     "data": {
      "text/plain": [
       "True"
      ]
     },
     "execution_count": 9,
     "metadata": {},
     "output_type": "execute_result"
    }
   ],
   "source": [
    "b = {\"Ram\",\"Shyam\",\"Hari\",\"Sita\",\"Gita\",\"Nita\"}\n",
    "a = {\"Hari\",\"Sita\"}\n",
    "a.issubset(b)\n",
    "b.issuperset(a)"
   ]
  },
  {
   "cell_type": "code",
   "execution_count": 1,
   "metadata": {},
   "outputs": [
    {
     "ename": "SyntaxError",
     "evalue": "invalid syntax (<ipython-input-1-ec11d2565732>, line 1)",
     "output_type": "error",
     "traceback": [
      "\u001b[1;36m  File \u001b[1;32m\"<ipython-input-1-ec11d2565732>\"\u001b[1;36m, line \u001b[1;32m1\u001b[0m\n\u001b[1;33m    a = [][]\u001b[0m\n\u001b[1;37m           ^\u001b[0m\n\u001b[1;31mSyntaxError\u001b[0m\u001b[1;31m:\u001b[0m invalid syntax\n"
     ]
    }
   ],
   "source": [
    "a = [][]\n",
    "n = int(input(\"enter size of n\"))\n",
    "m = int(input(\"enter size of m\"))\n",
    "for i in range(n):\n",
    "    for j in range(m):\n",
    "        name = input(\"enter name\")\n",
    "        \n",
    "        a[i][j].append(name)\n",
    "print(a)        "
   ]
  },
  {
   "cell_type": "code",
   "execution_count": null,
   "metadata": {},
   "outputs": [],
   "source": []
  }
 ],
 "metadata": {
  "kernelspec": {
   "display_name": "Python 3",
   "language": "python",
   "name": "python3"
  },
  "language_info": {
   "codemirror_mode": {
    "name": "ipython",
    "version": 3
   },
   "file_extension": ".py",
   "mimetype": "text/x-python",
   "name": "python",
   "nbconvert_exporter": "python",
   "pygments_lexer": "ipython3",
   "version": "3.7.6"
  }
 },
 "nbformat": 4,
 "nbformat_minor": 4
}
