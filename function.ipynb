{
 "cells": [
  {
   "cell_type": "code",
   "execution_count": 1,
   "metadata": {},
   "outputs": [
    {
     "name": "stdout",
     "output_type": "stream",
     "text": [
      "250\n"
     ]
    }
   ],
   "source": [
    "def cal():\n",
    "    l = 10\n",
    "    b = 5\n",
    "    h = 5\n",
    "    v = l*b*h\n",
    "    print(v)\n",
    "cal()    "
   ]
  },
  {
   "cell_type": "code",
   "execution_count": 3,
   "metadata": {},
   "outputs": [
    {
     "name": "stdout",
     "output_type": "stream",
     "text": [
      "enter p1000\n",
      "enter t3\n",
      "enter r4\n",
      "120.0\n"
     ]
    }
   ],
   "source": [
    "def simple():\n",
    "     p = int(input(\"enter p\"))       #local variables\n",
    "     t = float(input(\"enter t\"))\n",
    "     r = float(input(\"enter r\"))\n",
    "     i = p * t * r/100\n",
    "     print(i)\n",
    "simple() \n"
   ]
  },
  {
   "cell_type": "code",
   "execution_count": 4,
   "metadata": {},
   "outputs": [
    {
     "name": "stdout",
     "output_type": "stream",
     "text": [
      "enter p1000\n",
      "enter t3\n",
      "enter r4\n",
      "120.0\n"
     ]
    }
   ],
   "source": [
    "def simple(p,t,r):\n",
    "    i = p*t*r/100\n",
    "    print(i)\n",
    "p = int(input(\"enter p\"))       \n",
    "t = float(input(\"enter t\"))\n",
    "r = float(input(\"enter r\"))\n",
    "simple(p,t,r)"
   ]
  },
  {
   "cell_type": "code",
   "execution_count": 13,
   "metadata": {},
   "outputs": [
    {
     "name": "stdout",
     "output_type": "stream",
     "text": [
      "enter length2\n",
      "enter breadth2\n",
      "enter height2\n",
      "4 is the area\n",
      "8 is the volume\n"
     ]
    }
   ],
   "source": [
    "def area(l,b):\n",
    "     return  l * b\n",
    "def volume(l,b,h):\n",
    "    print(str(l*b*h) + \" is the volume\")\n",
    "    \n",
    "l = int(input(\"enter length\"))\n",
    "b = int(input(\"enter breadth\"))\n",
    "h = int(input(\"enter height\"))\n",
    "print(f\"{area(l,b)} is the area\")\n",
    "volume(l,b,h)\n",
    "\n",
    "\n",
    "    "
   ]
  },
  {
   "cell_type": "code",
   "execution_count": 15,
   "metadata": {},
   "outputs": [
    {
     "name": "stdout",
     "output_type": "stream",
     "text": [
      "enter a2\n",
      "enter b2\n",
      "enter operator+\n",
      "4\n"
     ]
    }
   ],
   "source": [
    "def add(a,b):\n",
    "    print(a+b)\n",
    "def mul(a,b):\n",
    "    print(a*b)\n",
    "def sub(a,b):\n",
    "    print(a-b)\n",
    "def div(a,b):\n",
    "    print(a/b)\n",
    "def invalid():\n",
    "    print(\"invalid operator\")\n",
    "\n",
    "\n",
    "a = int(input(\"enter a\"))\n",
    "b = int(input(\"enter b\"))\n",
    "o = (input(\"enter operator\"))\n",
    "if o == '+':\n",
    "    add(a,b)\n",
    "elif o =='-':\n",
    "    sub(a,b)\n",
    "elif o == '*':\n",
    "    mul(a,b)\n",
    "elif o == '/':\n",
    "    div(a,b)\n",
    "else:\n",
    "    invalid()"
   ]
  },
  {
   "cell_type": "code",
   "execution_count": 1,
   "metadata": {},
   "outputs": [
    {
     "name": "stdout",
     "output_type": "stream",
     "text": [
      "enter a4\n",
      "enter b5\n",
      "enter operator+\n",
      "9 is the result of addition\n"
     ]
    }
   ],
   "source": [
    "def add(a,b):\n",
    "    return a+b\n",
    "def mul(a,b):\n",
    "    return a*b\n",
    "def sub(a,b):\n",
    "    return a-b\n",
    "def div(a,b):\n",
    "    return a/b\n",
    "def invalid():\n",
    "    print(\"invalid operator\")\n",
    "\n",
    "\n",
    "a = int(input(\"enter a\"))\n",
    "b = int(input(\"enter b\"))\n",
    "o = (input(\"enter operator\"))\n",
    "if o == '+':\n",
    "    print(f\"{add(a,b)} is the result of addition\")\n",
    "elif o =='-':\n",
    "    print(f\"{sub(a,b)} is the result of subtraction\")\n",
    "elif o == '*':\n",
    "    print(f\"{mul(a,b)} is the result of multiplication\")\n",
    "elif o == '/':\n",
    "    print(f\"{div(a,b)} is the result of division\")\n",
    "else:\n",
    "    invalid()"
   ]
  },
  {
   "cell_type": "code",
   "execution_count": 3,
   "metadata": {},
   "outputs": [
    {
     "name": "stdout",
     "output_type": "stream",
     "text": [
      "enter a1\n",
      "enter b2\n",
      "enter operator-\n",
      "-1 is the result of subtraction\n"
     ]
    }
   ],
   "source": [
    "def add(a,b):\n",
    "    return a+b\n",
    "def mul(a,b):\n",
    "    return a*b\n",
    "def sub(a,b):\n",
    "    return a-b\n",
    "def div(a,b):\n",
    "    return a/b\n",
    "def invalid():\n",
    "    print(\"invalid operator\")\n",
    "\n",
    "def cal():\n",
    "    a = int(input(\"enter a\"))\n",
    "    b = int(input(\"enter b\"))\n",
    "    o = (input(\"enter operator\"))\n",
    "    if o == '+':\n",
    "        print(f\"{add(a,b)} is the result of addition\")\n",
    "    elif o =='-':\n",
    "        print(f\"{sub(a,b)} is the result of subtraction\")\n",
    "    elif o == '*':\n",
    "        print(f\"{mul(a,b)} is the result of multiplication\")\n",
    "    elif o == '/':\n",
    "        print(f\"{div(a,b)} is the result of division\")\n",
    "    else:\n",
    "        invalid()\n",
    "cal()        "
   ]
  },
  {
   "cell_type": "code",
   "execution_count": null,
   "metadata": {},
   "outputs": [],
   "source": [
    "def simple(p,t,r):\n",
    "    i = p*t*r/100\n",
    "    print(i)\n",
    "p = int(input(\"enter p\"))       \n",
    "t = float(input(\"enter t\"))\n",
    "r = float(input(\"enter r\"))\n",
    "simple(p,t,r)"
   ]
  }
 ],
 "metadata": {
  "kernelspec": {
   "display_name": "Python 3",
   "language": "python",
   "name": "python3"
  },
  "language_info": {
   "codemirror_mode": {
    "name": "ipython",
    "version": 3
   },
   "file_extension": ".py",
   "mimetype": "text/x-python",
   "name": "python",
   "nbconvert_exporter": "python",
   "pygments_lexer": "ipython3",
   "version": "3.7.6"
  }
 },
 "nbformat": 4,
 "nbformat_minor": 4
}
